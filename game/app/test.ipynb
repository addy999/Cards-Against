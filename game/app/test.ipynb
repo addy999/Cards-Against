{
 "cells": [
  {
   "cell_type": "code",
   "execution_count": 3,
   "metadata": {},
   "outputs": [],
   "source": [
    "from gsheets import *"
   ]
  },
  {
   "cell_type": "code",
   "execution_count": 5,
   "metadata": {},
   "outputs": [
    {
     "name": "stdout",
     "output_type": "stream",
     "text": [
      "CPU times: user 500 ms, sys: 0 ns, total: 500 ms\n",
      "Wall time: 1.07 s\n"
     ]
    }
   ],
   "source": [
    "%time vals = get_range(SPREADSHEET_ID, 'Sheet1!A1:B20')\n",
    "black_cards = [v[0] for v in vals]\n",
    "white_cards = [v[1] for v in vals]"
   ]
  },
  {
   "cell_type": "code",
   "execution_count": 71,
   "metadata": {},
   "outputs": [],
   "source": [
    "import numpy as np\n",
    "def get_random_card(cards, range_):\n",
    "    i = np.random.randint(range_[0], range_[1])\n",
    "    return clean_text(cards[i])\n",
    "\n",
    "def clean_text(string):\n",
    "    string = string.capitalize()\n",
    "    string = string.replace(\"\\n\", \"\")\n",
    "    string = string.rstrip()\n",
    "    \n",
    "    ending_punctuation = [\".\", \"!\", \"?\"]\n",
    "#     if string[-1] not in ending_punctuation:\n",
    "    results = [p in string[-5:] for p in ending_punctuation]\n",
    "    if True not in results:\n",
    "        string += \".\"\n",
    "    \n",
    "    return string"
   ]
  },
  {
   "cell_type": "code",
   "execution_count": 162,
   "metadata": {},
   "outputs": [],
   "source": [
    "class Card:\n",
    "    def __init__(self, text):\n",
    "        self.text = text\n",
    "\n",
    "class BlackCard(Card):\n",
    "    def __init__(self, text):\n",
    "        super().__init__(text)\n",
    "        self.clean()\n",
    "        \n",
    "    def clean(self):\n",
    "        self.blanks = 0\n",
    "        if \"__\" in self.text:\n",
    "            ## look for how many\n",
    "            starting_i = self.text.index(\"__\")\n",
    "            stop_i = len(self.text)-1\n",
    "            blank_spots = []\n",
    "            for i in range(starting_i+1, len(self.text)):\n",
    "                if self.text[i] != \"_\" and i > starting_i:\n",
    "                    # Find\n",
    "                    stop_i = i\n",
    "                    blank_spots.append([starting_i,stop_i])\n",
    "                    self.blanks += 1\n",
    "                    \n",
    "                    if \"__\" in self.text[i+1:]:\n",
    "                        starting_i = self.text[i+1:].index(\"__\") + i+1\n",
    "                        stop_i = len(self.text)-1\n",
    "                    else:\n",
    "                        break\n",
    "            \n",
    "            # Replace all blanks\n",
    "            print(\"All\", blank_spots)\n",
    "            new_text = \"\"\n",
    "            c = 0\n",
    "            for blank in blank_spots:\n",
    "                if c == 0:\n",
    "                    new_text += self.text[:blank[0]]   \n",
    "                    new_text += \"{\" + str(c) + \"}\"\n",
    "                elif c == len(blank_spots)-1:\n",
    "                    new_text += self.text[blank_spots[c-1][1]:] \n",
    "                else:\n",
    "                    new_text += self.text[blank_spots[c-1][1]:blank[0]]   \n",
    "                    new_text += \"{\" + str(c) + \"}\"\n",
    "                \n",
    "                c += 1 \n",
    "                \n",
    "            self.text = new_text\n",
    "            \n",
    "        else:\n",
    "            self.text += \" {0}.\"\n",
    "            self.blanks = 1\n",
    "    \n",
    "    def fill_in(self, white_card):\n",
    "        return self.text.replace()"
   ]
  },
  {
   "cell_type": "code",
   "execution_count": 163,
   "metadata": {},
   "outputs": [
    {
     "name": "stdout",
     "output_type": "stream",
     "text": [
      "All [[0, 8]]\n",
      "> Blanks: 1 : {0}\n"
     ]
    }
   ],
   "source": [
    "c=BlackCard(\"________ is the reason why I chose to go to UofT!\")\n",
    "print(\"> Blanks:\", c.blanks,\":\", c.text)"
   ]
  },
  {
   "cell_type": "code",
   "execution_count": 145,
   "metadata": {},
   "outputs": [
    {
     "name": "stdout",
     "output_type": "stream",
     "text": [
      "Original: Black Cards\n",
      "> Blanks: 1 : Black Cards {0}.\n",
      "*********\n",
      "Original: To futher increase enrollment, UofT administration has decided\n",
      "> Blanks: 1 : To futher increase enrollment, UofT administration has decided {0}.\n",
      "*********\n",
      "Original: Boundless _______.\n",
      "> Blanks: 1 : Boundless {0}\n",
      "*********\n",
      "Original: Northrop Frye McDonald’s is not serving _____.\n",
      "> Blanks: 1 : Northrop Frye McDonald’s is not serving {0}\n",
      "*********\n",
      "Original: Robarts is not a turkey! It's  ______.\n",
      "> Blanks: 1 : Robarts is not a turkey! It's  {0}\n",
      "*********\n",
      "Original: beep boop beep _____.\n",
      "> Blanks: 1 : beep boop beep {0}\n",
      "*********\n",
      "Original: Trin Secret Society. It's a_______.\n",
      "> Blanks: 1 : Trin Secret Society. It's a{0}\n",
      "*********\n",
      "Original: ________ is the reason why I chose to go to UofT!\n",
      "> Blanks: 41 : {0}{1}{2}{3}{4}{5}{6}{7}{8}{9}{10}{11}{12}{13}{14}{15}{16}{17}{18}{19}{20}{21}{22}{23}{24}{25}{26}{27}{28}{29}{30}{31}{32}{33}{34}{35}{36}{37}{38}{39}{40}\n",
      "*********\n",
      "Original: What makes UofT the #1 ranked university in Canada and top 20 in the world? _________________ and ________________.\n",
      "> Blanks: 2 : What makes UofT the #1 ranked university in Canada and top 20 in the world? {0} and {1}\n",
      "*********\n",
      "Original: Early in the morning, if you're lucky enough, you might just spot ________ from the top of Soldier's Tower.\n",
      "> Blanks: 33 : Early in the morning, if you're lucky enough, you might just spot {0}{1}{2}{3}{4}{5}{6}{7}{8}{9}{10}{11}{12}{13}{14}{15}{16}{17}{18}{19}{20}{21}{22}{23}{24}{25}{26}{27}{28}{29}{30}{31}{32}\n",
      "*********\n",
      "Original: Why did tutorial suck today?\n",
      "> Blanks: 1 : Why did tutorial suck today? {0}.\n",
      "*********\n",
      "Original: \"It was really hard crossing Queen's Park today because of all the ________\"\n",
      "> Blanks: 1 : \"It was really hard crossing Queen's Park today because of all the {0}\n",
      "*********\n",
      "Original: We noticed a surge in ___ so we had to curve the grade down!\n",
      "> Blanks: 35 : We noticed a surge in {0}{1}{2}{3}{4}{5}{6}{7}{8}{9}{10}{11}{12}{13}{14}{15}{16}{17}{18}{19}{20}{21}{22}{23}{24}{25}{26}{27}{28}{29}{30}{31}{32}{33}{34}\n",
      "*********\n",
      "Original: Watch out! He can't hear us, he's wearing ___________\n",
      "> Blanks: 0 : \n",
      "*********\n",
      "Original: ____________? Not in MY neighbourhood. \n",
      "> Blanks: 27 : {0}{1}{2}{3}{4}{5}{6}{7}{8}{9}{10}{11}{12}{13}{14}{15}{16}{17}{18}{19}{20}{21}{22}{23}{24}{25}{26}\n",
      "*********\n",
      "Original: New on Robart's Starbucks menu:____.\n",
      "> Blanks: 1 : New on Robart's Starbucks menu:{0}\n",
      "*********\n",
      "Original: Engineering students. Great at __________ , not so much at ____________. \n",
      "> Blanks: 3 : Engineering students. Great at {0} , not so much at {1}{2}\n",
      "*********\n",
      "Original: In Bahen's basement you'll find ____\n",
      "> Blanks: 0 : \n",
      "*********\n",
      "Original: 4 years of this shit and now I've got ____.\n",
      "> Blanks: 1 : 4 years of this shit and now I've got {0}\n",
      "*********\n",
      "Original: This year Doug Ford is going to cut _______.\n",
      "> Blanks: 1 : This year Doug Ford is going to cut {0}\n",
      "*********\n"
     ]
    }
   ],
   "source": [
    "for text in black_cards:\n",
    "    print(\"Original:\", text)\n",
    "    c = BlackCard(text)\n",
    "    print(\"> Blanks:\", c.blanks,\":\", c.text)\n",
    "    print(\"*********\")"
   ]
  },
  {
   "cell_type": "code",
   "execution_count": 70,
   "metadata": {},
   "outputs": [
    {
     "data": {
      "text/plain": [
       "'True blue.'"
      ]
     },
     "execution_count": 70,
     "metadata": {},
     "output_type": "execute_result"
    }
   ],
   "source": [
    "get_random_card(white_cards, (1,20))"
   ]
  },
  {
   "cell_type": "code",
   "execution_count": null,
   "metadata": {},
   "outputs": [],
   "source": []
  }
 ],
 "metadata": {
  "file_extension": ".py",
  "kernelspec": {
   "display_name": "venv",
   "language": "python",
   "name": "venv"
  },
  "language_info": {
   "codemirror_mode": {
    "name": "ipython",
    "version": 3
   },
   "file_extension": ".py",
   "mimetype": "text/x-python",
   "name": "python",
   "nbconvert_exporter": "python",
   "pygments_lexer": "ipython3",
   "version": "3.6.9"
  },
  "mimetype": "text/x-python",
  "name": "python",
  "npconvert_exporter": "python",
  "pygments_lexer": "ipython3",
  "version": 3
 },
 "nbformat": 4,
 "nbformat_minor": 2
}
