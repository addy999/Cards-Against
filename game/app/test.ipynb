{
 "cells": [
  {
   "cell_type": "code",
   "execution_count": 1,
   "metadata": {},
   "outputs": [],
   "source": [
    "from gsheets import *"
   ]
  },
  {
   "cell_type": "code",
   "execution_count": 2,
   "metadata": {},
   "outputs": [],
   "source": [
    "vals = get_range(SPREADSHEET_ID, 'Sheet1!A1:B20')\n",
    "black_cards = [v[0] for v in vals]\n",
    "white_cards = [v[1] for v in vals]"
   ]
  },
  {
   "cell_type": "code",
   "execution_count": 80,
   "metadata": {},
   "outputs": [],
   "source": [
    "import numpy as np\n",
    "def get_random_card(cards, range_):\n",
    "    i = np.random.randint(range_[0], range_[1])\n",
    "    return clean_text(cards[i])\n",
    "\n",
    "def clean_text(string):\n",
    "    string = string.capitalize()\n",
    "    string = string.replace(\"\\n\", \"\")\n",
    "    \n",
    "    ending_punctuation = [\".\", \"!\", \"?\"]\n",
    "    if string[-1] not in ending_punctuation:\n",
    "        if string[-1] == '\"':\n",
    "            string -= '\"'\n",
    "            string += '.\"'\n",
    "        else:\n",
    "            string += \".\"\n",
    "    \n",
    "    return string"
   ]
  },
  {
   "cell_type": "code",
   "execution_count": 88,
   "metadata": {},
   "outputs": [
    {
     "data": {
      "text/plain": [
       "'Peepeepoopooman.'"
      ]
     },
     "execution_count": 88,
     "metadata": {},
     "output_type": "execute_result"
    }
   ],
   "source": [
    "get_random_card(white_cards, (1,20))"
   ]
  }
 ],
 "metadata": {
  "file_extension": ".py",
  "kernelspec": {
   "display_name": "venv",
   "language": "python",
   "name": "venv"
  },
  "language_info": {
   "codemirror_mode": {
    "name": "ipython",
    "version": 3
   },
   "file_extension": ".py",
   "mimetype": "text/x-python",
   "name": "python",
   "nbconvert_exporter": "python",
   "pygments_lexer": "ipython3",
   "version": "3.6.9"
  },
  "mimetype": "text/x-python",
  "name": "python",
  "npconvert_exporter": "python",
  "pygments_lexer": "ipython3",
  "version": 3
 },
 "nbformat": 4,
 "nbformat_minor": 2
}
