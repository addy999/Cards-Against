{
 "cells": [
  {
   "cell_type": "code",
   "execution_count": 1,
   "metadata": {},
   "outputs": [
    {
     "name": "stdout",
     "output_type": "stream",
     "text": [
      "Please visit this URL to authorize this application: https://accounts.google.com/o/oauth2/auth?response_type=code&client_id=763767127983-k3o4di3ingehvg48aoapvbhmvvepbeis.apps.googleusercontent.com&redirect_uri=http%3A%2F%2Flocalhost%3A46219%2F&scope=https%3A%2F%2Fwww.googleapis.com%2Fauth%2Fspreadsheets.readonly&state=auWpxH14eu5mszxMVleZlTzRUgUiV8&access_type=offline\n"
     ]
    }
   ],
   "source": [
    "from gsheets import *"
   ]
  },
  {
   "cell_type": "code",
   "execution_count": 2,
   "metadata": {},
   "outputs": [
    {
     "name": "stdout",
     "output_type": "stream",
     "text": [
      "CPU times: user 760 ms, sys: 0 ns, total: 760 ms\n",
      "Wall time: 2.23 s\n"
     ]
    }
   ],
   "source": [
    "%time vals = get_range(SPREADSHEET_ID, 'Sheet1!A1:B20')\n",
    "black_cards = [v[0] for v in vals]\n",
    "white_cards = [v[1] for v in vals]"
   ]
  },
  {
   "cell_type": "code",
   "execution_count": 98,
   "metadata": {},
   "outputs": [],
   "source": [
    "import numpy as np\n",
    "def get_random_card(cards, range_= None):\n",
    "    if not range_:\n",
    "        range_ = (0, len(cards)-1)\n",
    "    i = np.random.randint(range_[0], range_[1])\n",
    "    return clean_text(cards[i])\n",
    "\n",
    "def clean_text(string):\n",
    "    string = string.capitalize()\n",
    "    string = string.replace(\"\\n\", \"\")\n",
    "    string = string.rstrip()\n",
    "    \n",
    "    ending_punctuation = [\".\", \"!\", \"?\"]\n",
    "#     if string[-1] not in ending_punctuation:\n",
    "    results = [p in string[-5:] for p in ending_punctuation]\n",
    "    if True not in results:\n",
    "        string += \".\"\n",
    "    \n",
    "    return string"
   ]
  },
  {
   "cell_type": "code",
   "execution_count": 99,
   "metadata": {},
   "outputs": [],
   "source": [
    "class Card:\n",
    "    def __init__(self, text):\n",
    "        self.text = text\n",
    "\n",
    "class BlackCard(Card):\n",
    "    def __init__(self, text):\n",
    "        super().__init__(text)\n",
    "        self.clean()\n",
    "        \n",
    "    def clean(self):\n",
    "        self.blanks = 0\n",
    "        if \"__\" in self.text:\n",
    "            ## look for how many\n",
    "            starting_i = self.text.index(\"__\")\n",
    "            stop_i = len(self.text)-1\n",
    "            blank_spots = []\n",
    "            for i in range(starting_i+1, len(self.text)):\n",
    "                if self.text[i] != \"_\" and i > starting_i:\n",
    "                    # Find\n",
    "                    stop_i = i\n",
    "                    blank_spots.append([starting_i,stop_i])\n",
    "                    self.blanks += 1\n",
    "                    \n",
    "                    if \"__\" in self.text[i+1:]:\n",
    "                        starting_i = self.text[i+1:].index(\"__\") + i+1\n",
    "                        stop_i = len(self.text)-1\n",
    "                    else:\n",
    "                        break\n",
    "            \n",
    "            # Replace all blanks\n",
    "#             print(\"All\", blank_spots)\n",
    "            new_text = \"\"\n",
    "            c = 0\n",
    "            for blank in blank_spots:\n",
    "                if c == 0:\n",
    "                    if blank[0] != 0: \n",
    "                        new_text += self.text[:blank[0]]   \n",
    "                    new_text += \"{\" + str(c) + \"}\"\n",
    "                if c == len(blank_spots)-1:\n",
    "                    new_text += self.text[blank_spots[c-1][1]:] \n",
    "                else:\n",
    "                    new_text += self.text[blank_spots[c-1][1]:blank[0]]   \n",
    "                    new_text += \"{\" + str(c) + \"}\"\n",
    "                \n",
    "                c += 1 \n",
    "                \n",
    "            self.text = new_text\n",
    "            \n",
    "        else:\n",
    "            self.text += \" {0}.\"\n",
    "            self.blanks = 1\n",
    "    \n",
    "    def fill_in(self, white_card):\n",
    "        return self.text.replace()"
   ]
  },
  {
   "cell_type": "code",
   "execution_count": 100,
   "metadata": {},
   "outputs": [],
   "source": [
    "import re"
   ]
  },
  {
   "cell_type": "code",
   "execution_count": 101,
   "metadata": {},
   "outputs": [],
   "source": [
    "string =\"Engineering students. Great at __________ , not so much at ____________.\"\n",
    "matches = re.findall(\"_*_\", string)"
   ]
  },
  {
   "cell_type": "code",
   "execution_count": 104,
   "metadata": {},
   "outputs": [],
   "source": []
  },
  {
   "cell_type": "code",
   "execution_count": 116,
   "metadata": {},
   "outputs": [
    {
     "data": {
      "text/plain": [
       "'Trin students.'"
      ]
     },
     "execution_count": 116,
     "metadata": {},
     "output_type": "execute_result"
    }
   ],
   "source": [
    "get_random_card(white_cards)"
   ]
  },
  {
   "cell_type": "code",
   "execution_count": 119,
   "metadata": {},
   "outputs": [
    {
     "name": "stdout",
     "output_type": "stream",
     "text": [
      "CPU times: user 395 ms, sys: 31.7 ms, total: 427 ms\n",
      "Wall time: 1.36 s\n"
     ]
    }
   ],
   "source": [
    "%time vals = get_range(SPREADSHEET_ID, 'Sheet1!A1:B100')\n",
    "black_cards = [v[0] for v in vals]\n",
    "white_cards = [v[1] for v in vals]"
   ]
  },
  {
   "cell_type": "code",
   "execution_count": 143,
   "metadata": {},
   "outputs": [
    {
     "name": "stdout",
     "output_type": "stream",
     "text": [
      "Black card: ________ is the reason why i chose to go to uoft!\n",
      "['Meric inside true blue.'] is the reason why i chose to go to uoft!\n"
     ]
    }
   ],
   "source": [
    "string = get_random_card(black_cards[1:])\n",
    "print(\"Black card:\", string)\n",
    "c = -1\n",
    "def callback(match):\n",
    "    global c\n",
    "    c += 1\n",
    "    return \"{\" + str(c) + \"}\"\n",
    "cleaned = re.sub(\"_*_\", callback, string)\n",
    "\n",
    "w = [get_random_card(white_cards) for i in range(c+1)]\n",
    "# print(\"White card\", w)\n",
    "print(cleaned.format(w))"
   ]
  },
  {
   "cell_type": "code",
   "execution_count": 124,
   "metadata": {},
   "outputs": [],
   "source": [
    "match = re.search(\"_*_\", \"\")\n",
    "while match:\n",
    "    i = match.span()\n",
    "    string = string.replace()"
   ]
  },
  {
   "cell_type": "code",
   "execution_count": 188,
   "metadata": {},
   "outputs": [
    {
     "name": "stdout",
     "output_type": "stream",
     "text": [
      "> Blanks: 2 : Engineering students. Great at {0}{0} , not so much at ____________. \n"
     ]
    }
   ],
   "source": [
    "c=BlackCard(\"Engineering students. Great at __________ , not so much at ____________. \")\n",
    "print(\"> Blanks:\", c.blanks,\":\", c.text)"
   ]
  },
  {
   "cell_type": "code",
   "execution_count": 187,
   "metadata": {},
   "outputs": [
    {
     "name": "stdout",
     "output_type": "stream",
     "text": [
      "Original: Black Cards\n",
      "> Blanks: 1 : Black Cards {0}.\n",
      "*********\n",
      "Original: To futher increase enrollment, UofT administration has decided\n",
      "> Blanks: 1 : To futher increase enrollment, UofT administration has decided {0}.\n",
      "*********\n",
      "Original: Boundless _______.\n",
      "> Blanks: 1 : Boundless {0}.\n",
      "*********\n",
      "Original: Northrop Frye McDonald’s is not serving _____.\n",
      "> Blanks: 1 : Northrop Frye McDonald’s is not serving {0}.\n",
      "*********\n",
      "Original: Robarts is not a turkey! It's  ______.\n",
      "> Blanks: 1 : Robarts is not a turkey! It's  {0}.\n",
      "*********\n",
      "Original: beep boop beep _____.\n",
      "> Blanks: 1 : beep boop beep {0}.\n",
      "*********\n",
      "Original: Trin Secret Society. It's a_______.\n",
      "> Blanks: 1 : Trin Secret Society. It's a{0}.\n",
      "*********\n",
      "Original: ________ is the reason why I chose to go to UofT!\n",
      "> Blanks: 1 : {0} is the reason why I chose to go to UofT!\n",
      "*********\n",
      "Original: What makes UofT the #1 ranked university in Canada and top 20 in the world? _________________ and ________________.\n",
      "> Blanks: 2 : What makes UofT the #1 ranked university in Canada and top 20 in the world? {0}{0} and ________________.\n",
      "*********\n",
      "Original: Early in the morning, if you're lucky enough, you might just spot ________ from the top of Soldier's Tower.\n",
      "> Blanks: 1 : Early in the morning, if you're lucky enough, you might just spot {0} from the top of Soldier's Tower.\n",
      "*********\n",
      "Original: Why did tutorial suck today?\n",
      "> Blanks: 1 : Why did tutorial suck today? {0}.\n",
      "*********\n",
      "Original: \"It was really hard crossing Queen's Park today because of all the ________\"\n",
      "> Blanks: 1 : \"It was really hard crossing Queen's Park today because of all the {0}\"\n",
      "*********\n",
      "Original: We noticed a surge in ___ so we had to curve the grade down!\n",
      "> Blanks: 1 : We noticed a surge in {0} so we had to curve the grade down!\n",
      "*********\n",
      "Original: Watch out! He can't hear us, he's wearing ___________\n",
      "> Blanks: 0 : \n",
      "*********\n",
      "Original: ____________? Not in MY neighbourhood. \n",
      "> Blanks: 1 : {0}? Not in MY neighbourhood. \n",
      "*********\n",
      "Original: New on Robart's Starbucks menu:____.\n",
      "> Blanks: 1 : New on Robart's Starbucks menu:{0}.\n",
      "*********\n",
      "Original: Engineering students. Great at __________ , not so much at ____________. \n",
      "> Blanks: 2 : Engineering students. Great at {0}{0} , not so much at ____________. \n",
      "*********\n",
      "Original: In Bahen's basement you'll find ____\n",
      "> Blanks: 0 : \n",
      "*********\n",
      "Original: 4 years of this shit and now I've got ____.\n",
      "> Blanks: 1 : 4 years of this shit and now I've got {0}.\n",
      "*********\n",
      "Original: This year Doug Ford is going to cut _______.\n",
      "> Blanks: 1 : This year Doug Ford is going to cut {0}.\n",
      "*********\n"
     ]
    }
   ],
   "source": [
    "for text in black_cards:\n",
    "    print(\"Original:\", text)\n",
    "    c = BlackCard(text)\n",
    "    print(\"> Blanks:\", c.blanks,\":\", c.text)\n",
    "    print(\"*********\")"
   ]
  },
  {
   "cell_type": "code",
   "execution_count": 70,
   "metadata": {},
   "outputs": [
    {
     "data": {
      "text/plain": [
       "'True blue.'"
      ]
     },
     "execution_count": 70,
     "metadata": {},
     "output_type": "execute_result"
    }
   ],
   "source": [
    "get_random_card(white_cards, (1,20))"
   ]
  },
  {
   "cell_type": "code",
   "execution_count": null,
   "metadata": {},
   "outputs": [],
   "source": []
  }
 ],
 "metadata": {
  "file_extension": ".py",
  "kernelspec": {
   "display_name": "venv",
   "language": "python",
   "name": "venv"
  },
  "language_info": {
   "codemirror_mode": {
    "name": "ipython",
    "version": 3
   },
   "file_extension": ".py",
   "mimetype": "text/x-python",
   "name": "python",
   "nbconvert_exporter": "python",
   "pygments_lexer": "ipython3",
   "version": "3.6.9"
  },
  "mimetype": "text/x-python",
  "name": "python",
  "npconvert_exporter": "python",
  "pygments_lexer": "ipython3",
  "version": 3
 },
 "nbformat": 4,
 "nbformat_minor": 2
}
